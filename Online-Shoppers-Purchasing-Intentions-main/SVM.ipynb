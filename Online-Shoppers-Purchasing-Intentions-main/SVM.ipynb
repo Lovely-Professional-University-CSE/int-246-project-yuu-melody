{
 "cells": [
  {
   "cell_type": "code",
   "execution_count": 24,
   "metadata": {
    "scrolled": true
   },
   "outputs": [],
   "source": [
    "import numpy as np    \n",
    "import pandas as pd\n",
    "import matplotlib.pyplot as plt\n",
    "import Database\n",
    "from sklearn.svm import SVC\n",
    "from tkinter import *\n",
    "from tkinter.ttk import *\n",
    "import matplotlib\n",
    "matplotlib.use(\"TkAgg\")\n",
    "from matplotlib.figure import Figure\n",
    "from matplotlib.backends.backend_tkagg import FigureCanvasTkAgg"
   ]
  },
  {
   "cell_type": "code",
   "execution_count": 27,
   "metadata": {
    "scrolled": true
   },
   "outputs": [],
   "source": [
    "X_train,Y_train,X_test,Y_test = Database.main()"
   ]
  },
  {
   "cell_type": "code",
   "execution_count": 26,
   "metadata": {
    "scrolled": false
   },
   "outputs": [
    {
     "name": "stdout",
     "output_type": "stream",
     "text": [
      "rbf 84.63519313304721\n"
     ]
    }
   ],
   "source": [
    "#using RBF kernel\n",
    "svm = SVC(kernel='rbf')\n",
    "svm.fit(X_train, Y_train)     #training\n",
    "y=svm.predict(X_test)         #testing\n",
    "count=0\n",
    "c=[]\n",
    "for i in range(Y_test.shape[0]):  # calculating accuracy\n",
    "    if y[i]==Y_test[i]:\n",
    "         count+=1\n",
    "    c.append(count)        \n",
    "sp= (count/Y_test.shape[0])*100            \n",
    "print(\"rbf\",sp)"
   ]
  },
  {
   "cell_type": "code",
   "execution_count": 7,
   "metadata": {},
   "outputs": [
    {
     "name": "stdout",
     "output_type": "stream",
     "text": [
      "sigmoid 77.38197424892704\n"
     ]
    }
   ],
   "source": [
    "#using Sigmoid kernel\n",
    "svm = SVC(kernel='sigmoid')\n",
    "svm.fit(X_train, Y_train)\n",
    "y=svm.predict(X_test)\n",
    "count=0\n",
    "c2=[]\n",
    "for i in range(Y_test.shape[0]):\n",
    "    if y[i]==Y_test[i]:\n",
    "         count+=1\n",
    "    c2.append(count)        \n",
    "sp= (count/Y_test.shape[0])*100            \n",
    "print(\"sigmoid\",sp)"
   ]
  },
  {
   "cell_type": "code",
   "execution_count": 23,
   "metadata": {},
   "outputs": [],
   "source": [
    "root = Tk()\n",
    "root.wm_title(\"Comparison between RBF and sigmoid kernel\")\n",
    "figure = Figure(figsize=(6, 4), dpi=100)\n",
    "plt = figure.add_subplot(1, 1, 1) \n",
    "canvas = FigureCanvasTkAgg(figure, root)\n",
    "canvas.get_tk_widget().grid(row=0, column=0)\n",
    "# Comparison between RBF and sigmoid kernel\n",
    "a1=plt.plot([i for i in range(1,2331)],c,label=\"rbf\")\n",
    "a2=plt.plot([i for i in range(1,2331)],c2,label=\"sigmoid\")\n",
    "plt.set_xlabel(\"Number of inputs\")\n",
    "plt.set_ylabel(\"Number of correct predictions\")\n",
    "plt.legend()\n",
    "root.mainloop()"
   ]
  }
 ],
 "metadata": {
  "kernelspec": {
   "display_name": "Python 3",
   "language": "python",
   "name": "python3"
  },
  "language_info": {
   "codemirror_mode": {
    "name": "ipython",
    "version": 3
   },
   "file_extension": ".py",
   "mimetype": "text/x-python",
   "name": "python",
   "nbconvert_exporter": "python",
   "pygments_lexer": "ipython3",
   "version": "3.8.3"
  }
 },
 "nbformat": 4,
 "nbformat_minor": 2
}
